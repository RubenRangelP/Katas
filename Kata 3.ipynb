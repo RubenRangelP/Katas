{
 "cells": [
  {
   "cell_type": "code",
   "execution_count": 6,
   "metadata": {},
   "outputs": [
    {
     "name": "stdout",
     "output_type": "stream",
     "text": [
      "Advertencia: Alta Velocidad!\n"
     ]
    }
   ],
   "source": [
    "velAsteroide = 49\n",
    "\n",
    "if velAsteroide > 25:\n",
    "    print(\"Advertencia: Alta Velocidad!\")\n",
    "else: \n",
    "    print(\"Velocidad Correcta\")"
   ]
  },
  {
   "cell_type": "code",
   "execution_count": 7,
   "metadata": {},
   "outputs": [
    {
     "name": "stdout",
     "output_type": "stream",
     "text": [
      "No se alcanzará a ver el rayo de Luz desde la tierra\n"
     ]
    }
   ],
   "source": [
    "velAsteroide2 = 19\n",
    "\n",
    "if velAsteroide2 >= 20:\n",
    "    print(\"Alerta, buscar asteroide en el cielo!\")\n",
    "else:\n",
    "    print(\"No se alcanzará a ver el rayo de Luz desde la tierra\")"
   ]
  },
  {
   "cell_type": "code",
   "execution_count": 8,
   "metadata": {},
   "outputs": [
    {
     "name": "stdout",
     "output_type": "stream",
     "text": [
      "Look up! Hay una luz mágica en el cielo!\n"
     ]
    }
   ],
   "source": [
    "velAsteroide3 = 25\n",
    "\n",
    "tamAsteroide = 40\n",
    "\n",
    "if velAsteroide3 > 25 and tamAsteroide > 25:\n",
    "    print(\"Alerta, un asteroide muy peligroso viene hacia la tierra\")\n",
    "elif velAsteroide3 >= 20:\n",
    "    print(\"Look up! Hay una luz mágica en el cielo!\")\n",
    "elif tamAsteroide < 25:\n",
    "    print(\"Nada que ver aquí!\")\n",
    "else: \n",
    "    print(\"Nada que ver aquí\")"
   ]
  }
 ],
 "metadata": {
  "interpreter": {
   "hash": "40999cb836fbbe186b45335c8747bf5629cd40a246000c0d2fb2e6d5fb7e246f"
  },
  "kernelspec": {
   "display_name": "Python 3.10.2 64-bit",
   "language": "python",
   "name": "python3"
  },
  "language_info": {
   "codemirror_mode": {
    "name": "ipython",
    "version": 3
   },
   "file_extension": ".py",
   "mimetype": "text/x-python",
   "name": "python",
   "nbconvert_exporter": "python",
   "pygments_lexer": "ipython3",
   "version": "3.10.2"
  },
  "orig_nbformat": 4
 },
 "nbformat": 4,
 "nbformat_minor": 2
}
