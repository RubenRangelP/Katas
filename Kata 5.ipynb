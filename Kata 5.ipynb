{
 "cells": [
  {
   "cell_type": "code",
   "execution_count": 1,
   "metadata": {},
   "outputs": [
    {
     "name": "stdout",
     "output_type": "stream",
     "text": [
      "628949330\n",
      "390577533.93\n"
     ]
    }
   ],
   "source": [
    "#Crear variables para almacenar las dos distancias\n",
    "\n",
    "first_planet = 149597870\n",
    "second_planet = 778547200\n",
    "\n",
    "#Calcular la distancia entre planetas\n",
    "\n",
    "distance_km = second_planet - first_planet\n",
    "print(distance_km)\n",
    "\n",
    "distance_mi = distance_km * 0.621\n",
    "\n",
    "print(distance_mi)\n",
    "\n"
   ]
  },
  {
   "cell_type": "code",
   "execution_count": 3,
   "metadata": {},
   "outputs": [
    {
     "name": "stdout",
     "output_type": "stream",
     "text": [
      "0\n",
      "0.0\n"
     ]
    }
   ],
   "source": [
    "#Almacenar las entradas del usuario\n",
    "\n",
    "first_planet = input('Introduzca la distancia del sol para el primer planeta en KM')\n",
    "second_planet = input('Introduzca la distancia desde el sol para el segundo planeta en KM')\n",
    "\n",
    "#Convierte las cadenas de ambos planetas a números enteros\n",
    "\n",
    "first_planet = int (first_planet)\n",
    "second_planet = int (second_planet)\n",
    "\n",
    "#Realizar el cálculo y determinar el valor absoluto\n",
    "\n",
    "distance_km = second_planet - first_planet \n",
    "print(distance_km)\n",
    "\n",
    "#Convertir de km a millas\n",
    "\n",
    "distance_mi = distance_km * 0.621\n",
    "print(abs(distance_mi))\n"
   ]
  }
 ],
 "metadata": {
  "interpreter": {
   "hash": "40999cb836fbbe186b45335c8747bf5629cd40a246000c0d2fb2e6d5fb7e246f"
  },
  "kernelspec": {
   "display_name": "Python 3.10.2 64-bit",
   "language": "python",
   "name": "python3"
  },
  "language_info": {
   "codemirror_mode": {
    "name": "ipython",
    "version": 3
   },
   "file_extension": ".py",
   "mimetype": "text/x-python",
   "name": "python",
   "nbconvert_exporter": "python",
   "pygments_lexer": "ipython3",
   "version": "3.10.2"
  },
  "orig_nbformat": 4
 },
 "nbformat": 4,
 "nbformat_minor": 2
}
