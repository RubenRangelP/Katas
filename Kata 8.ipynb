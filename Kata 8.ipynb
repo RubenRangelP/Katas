{
 "cells": [
  {
   "cell_type": "code",
   "execution_count": 2,
   "metadata": {},
   "outputs": [
    {
     "name": "stdout",
     "output_type": "stream",
     "text": [
      "mars has 2 moons\n",
      "mars has a polar circumference of 6752\n"
     ]
    }
   ],
   "source": [
    "#Crear diccionario\n",
    "\n",
    "planet = {\n",
    "    'name': 'mars',\n",
    "    'moons':2\n",
    "}\n",
    "\n",
    "#Mostrar nombre del planeta y su número de lunas\n",
    "\n",
    "print(f'{planet[\"name\"]} has {planet[\"moons\"]} moons')\n",
    "\n",
    "#agregar la clase cirucnferencia\n",
    "\n",
    "planet['circumference (km)'] = {\n",
    "    'polar': 6752,\n",
    "    'equatorial': 6792\n",
    "}\n",
    "\n",
    "#imprimir el nombre del planeta con su circunferencia\n",
    "\n",
    "print(f'{planet[\"name\"]} has a polar circumference of {planet[\"circumference (km)\"][\"polar\"]}')"
   ]
  },
  {
   "cell_type": "code",
   "execution_count": 3,
   "metadata": {},
   "outputs": [
    {
     "name": "stdout",
     "output_type": "stream",
     "text": [
      "17.833333333333332\n"
     ]
    }
   ],
   "source": [
    "#Planets and moons\n",
    "\n",
    "planet_moons = {\n",
    "'mercury':0,\n",
    "'venus': 0,\n",
    "'earth': 1,\n",
    "'mars': 2,\n",
    "'jupiter': 79,\n",
    "'saturn':82,\n",
    "'uranus':27,\n",
    "'nepture': 14,\n",
    "'pluto': 5,\n",
    "'haumea': 2,\n",
    "'makemake': 1,\n",
    "'eris': 1\n",
    "}\n",
    "\n",
    "#Se almacenan los resultados en la varibale moons\n",
    "\n",
    "moons = planet_moons.values()\n",
    "\n",
    "#Se obtienen el no. total de planetas\n",
    "\n",
    "planets = len(planet_moons.keys())\n",
    "\n",
    "#Cálculo del total de moons agregando todas las lunas\n",
    "\n",
    "total_moons = 0\n",
    "for moon in moons:\n",
    "    total_moons = total_moons + moon\n",
    "\n",
    "#Cálculo del promedio dividiendo el total_moons por el número de planetas\n",
    "\n",
    "average = total_moons / planets\n",
    "\n",
    "print(average)"
   ]
  }
 ],
 "metadata": {
  "interpreter": {
   "hash": "40999cb836fbbe186b45335c8747bf5629cd40a246000c0d2fb2e6d5fb7e246f"
  },
  "kernelspec": {
   "display_name": "Python 3.10.2 64-bit",
   "language": "python",
   "name": "python3"
  },
  "language_info": {
   "codemirror_mode": {
    "name": "ipython",
    "version": 3
   },
   "file_extension": ".py",
   "mimetype": "text/x-python",
   "name": "python",
   "nbconvert_exporter": "python",
   "pygments_lexer": "ipython3",
   "version": "3.10.2"
  },
  "orig_nbformat": 4
 },
 "nbformat": 4,
 "nbformat_minor": 2
}
